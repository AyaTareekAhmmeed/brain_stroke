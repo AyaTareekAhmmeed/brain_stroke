{
 "cells": [
  {
   "cell_type": "code",
   "execution_count": 1,
   "id": "99a46ce6",
   "metadata": {},
   "outputs": [],
   "source": [
    "#importing librieris\n",
    "import numpy as np\n",
    "import pandas as pd"
   ]
  },
  {
   "cell_type": "code",
   "execution_count": 4,
   "id": "4aa3d5ea",
   "metadata": {},
   "outputs": [
    {
     "name": "stdout",
     "output_type": "stream",
     "text": [
      "Data : <bound method NDFrame.head of       gender   age  hypertension  heart_disease ever_married      work_type  \\\n",
      "0       Male  67.0             0              1          Yes        Private   \n",
      "1       Male  80.0             0              1          Yes        Private   \n",
      "2     Female  49.0             0              0          Yes        Private   \n",
      "3     Female  79.0             1              0          Yes  Self-employed   \n",
      "4       Male  81.0             0              0          Yes        Private   \n",
      "...      ...   ...           ...            ...          ...            ...   \n",
      "4976    Male  41.0             0              0           No        Private   \n",
      "4977    Male  40.0             0              0          Yes        Private   \n",
      "4978  Female  45.0             1              0          Yes       Govt_job   \n",
      "4979    Male  40.0             0              0          Yes        Private   \n",
      "4980  Female  80.0             1              0          Yes        Private   \n",
      "\n",
      "     Residence_type  avg_glucose_level   bmi   smoking_status  stroke  \n",
      "0             Urban             228.69  36.6  formerly smoked       1  \n",
      "1             Rural             105.92  32.5     never smoked       1  \n",
      "2             Urban             171.23  34.4           smokes       1  \n",
      "3             Rural             174.12  24.0     never smoked       1  \n",
      "4             Urban             186.21  29.0  formerly smoked       1  \n",
      "...             ...                ...   ...              ...     ...  \n",
      "4976          Rural              70.15  29.8  formerly smoked       0  \n",
      "4977          Urban             191.15  31.1           smokes       0  \n",
      "4978          Rural              95.02  31.8           smokes       0  \n",
      "4979          Rural              83.94  30.0           smokes       0  \n",
      "4980          Urban              83.75  29.1     never smoked       0  \n",
      "\n",
      "[4981 rows x 11 columns]>\n",
      "Data shape : (4981, 11)\n"
     ]
    }
   ],
   "source": [
    "#loading data\n",
    "dataset =pd.read_csv('full_data.csv')\n",
    "#showing data\n",
    "print(\"Data :\", dataset.head)\n",
    "print(\"Data shape :\", dataset.shape)"
   ]
  },
  {
   "cell_type": "code",
   "execution_count": 6,
   "id": "a96baa25",
   "metadata": {},
   "outputs": [],
   "source": [
    "#using labelEncoder to convert categorical data into numerical data\n",
    "from sklearn.preprocessing import StandardScaler, LabelEncoder\n",
    "lbl =LabelEncoder()\n",
    "dataset.gender=lbl.fit_transform(dataset.gender)\n",
    "dataset.ever_married=lbl.fit_transform(dataset.ever_married)\n",
    "dataset.work_type=lbl.fit_transform(dataset.work_type)\n",
    "dataset.Residence_type=lbl.fit_transform(dataset.Residence_type)\n",
    "dataset.smoking_status=lbl.fit_transform(dataset.smoking_status)"
   ]
  },
  {
   "cell_type": "code",
   "execution_count": 7,
   "id": "91934daf",
   "metadata": {},
   "outputs": [],
   "source": [
    "#clean data\n",
    "from sklearn.impute import SimpleImputer \n",
    "imp = SimpleImputer(missing_values = np.nan, strategy='mean')\n",
    "imp = imp.fit(dataset)\n",
    "dataset = imp.transform(dataset)"
   ]
  },
  {
   "cell_type": "code",
   "execution_count": 8,
   "id": "4079600f",
   "metadata": {},
   "outputs": [
    {
     "name": "stdout",
     "output_type": "stream",
     "text": [
      "X :\n",
      " [[  0.    67.     0.   ... 228.69  36.6    1.  ]\n",
      " [  0.    80.     0.   ... 105.92  32.5    2.  ]\n",
      " [  0.    49.     0.   ... 171.23  34.4    3.  ]\n",
      " ...\n",
      " [  0.    45.     1.   ...  95.02  31.8    3.  ]\n",
      " [  0.    40.     0.   ...  83.94  30.     3.  ]\n",
      " [  0.    80.     1.   ...  83.75  29.1    2.  ]]\n",
      "X shape : (4981, 10)\n",
      "y :\n",
      " [1. 1. 1. ... 0. 0. 0.]\n",
      "Y shape : (4981,)\n"
     ]
    }
   ],
   "source": [
    "#slicing data\n",
    "x = dataset[:, :-1]\n",
    "print('X :\\n', x)\n",
    "print('X shape :',x.shape)\n",
    "y = dataset[:, -1]\n",
    "print('y :\\n', y)\n",
    "print('Y shape :',y.shape)"
   ]
  },
  {
   "cell_type": "code",
   "execution_count": 9,
   "id": "8fa11efc",
   "metadata": {},
   "outputs": [
    {
     "name": "stdout",
     "output_type": "stream",
     "text": [
      "X after rearangeng :\n",
      " [[ 0.00000000e+00  1.04058433e+00 -3.26185770e-01 ...  2.72341090e+00\n",
      "   1.19323816e+00 -3.53933192e-01]\n",
      " [ 0.00000000e+00  1.61427033e+00 -3.26185770e-01 ... -5.22766599e-04\n",
      "   5.89389611e-01  5.78839946e-01]\n",
      " [ 0.00000000e+00  2.46249882e-01 -3.26185770e-01 ...  1.44852918e+00\n",
      "   8.69221866e-01  1.51161308e+00]\n",
      " ...\n",
      " [ 0.00000000e+00  6.97311148e-02  3.06573766e+00 ... -2.42364234e-01\n",
      "   4.86293516e-01  1.51161308e+00]\n",
      " [ 0.00000000e+00 -1.50917344e-01 -3.26185770e-01 ... -4.88199415e-01\n",
      "   2.21189274e-01  1.51161308e+00]\n",
      " [ 0.00000000e+00  1.61427033e+00  3.06573766e+00 ... -4.92415000e-01\n",
      "   8.86371531e-02  5.78839946e-01]]\n"
     ]
    }
   ],
   "source": [
    "#Scaling data 'rearange data'\n",
    "from sklearn.preprocessing import StandardScaler\n",
    "sc = StandardScaler()\n",
    "x =sc.fit_transform(x)#only rearangeng x\n",
    "print('X after rearangeng :\\n',x)"
   ]
  },
  {
   "cell_type": "code",
   "execution_count": 19,
   "id": "3ce62807",
   "metadata": {},
   "outputs": [
    {
     "name": "stdout",
     "output_type": "stream",
     "text": [
      "X_train is   [[ 0.          1.43775156  3.06573766 ... -0.57228925  0.94286193\n",
      "  -0.35393319]\n",
      " [ 0.          1.57014064 -0.32618577 ...  0.19583476 -0.1911951\n",
      "  -0.35393319]\n",
      " [ 0.          0.51102803 -0.32618577 ... -1.12098094 -0.54466743\n",
      "  -1.28670633]\n",
      " ...\n",
      " [ 0.          0.55515772 -0.32618577 ...  2.6333305   2.106375\n",
      "   0.57883995]\n",
      " [ 0.          0.59928742 -0.32618577 ...  0.03431128  0.14754921\n",
      "   0.57883995]\n",
      " [ 0.         -1.51893779 -0.32618577 ... -0.34886323 -1.44307625\n",
      "  -1.28670633]]\n",
      "X_train Shape is   (3337, 10)\n",
      "X_test is   [[ 0.         -0.15091734 -0.32618577 ...  0.10331375  0.70721372\n",
      "  -0.35393319]\n",
      " [ 0.          1.52601094 -0.32618577 ...  2.84255665  0.76612577\n",
      "   0.57883995]\n",
      " [ 0.         -1.29828933 -0.32618577 ... -0.74690322 -1.39889221\n",
      "  -1.28670633]\n",
      " ...\n",
      " [ 0.          0.33450927 -0.32618577 ... -0.3572944   0.20646126\n",
      "  -1.28670633]\n",
      " [ 0.          0.86406557  3.06573766 ...  1.51952851 -0.61830749\n",
      "   0.57883995]\n",
      " [ 0.         -0.50395488 -0.32618577 ... -0.75089694 -0.78031564\n",
      "   0.57883995]]\n",
      "X_test Shape is   (1644, 10)\n",
      "y_train is   [0. 1. 0. ... 0. 0. 0.]\n",
      "y_train Shape is   (3337,)\n",
      "y_test is   [0. 0. 0. ... 0. 0. 0.]\n",
      "y_test Shape is   (1644,)\n"
     ]
    }
   ],
   "source": [
    "#spliting data into train and test\n",
    "from sklearn.model_selection import train_test_split\n",
    "X_train ,X_test ,y_train ,y_test = train_test_split(x ,y ,test_size=0.33,random_state=0 ,shuffle=True) #test_size=0.33 means i take 33%of data for testing and 67% for training &random_state=0 if we are group and we working on same data we have to set random state= same num &shuffle =True to make data shuffle\n",
    "print('X_train is  ' , X_train)\n",
    "print('X_train Shape is  ' , X_train.shape)\n",
    "print('X_test is  ' , X_test)\n",
    "print('X_test Shape is  ' , X_test.shape)\n",
    "print('y_train is  ' ,y_train)\n",
    "print('y_train Shape is  ' ,y_train.shape)\n",
    "print('y_test is  ' , y_test)\n",
    "print('y_test Shape is  ' , y_test.shape)"
   ]
  },
  {
   "cell_type": "code",
   "execution_count": 21,
   "id": "017d3387",
   "metadata": {},
   "outputs": [
    {
     "name": "stdout",
     "output_type": "stream",
     "text": [
      "KNNClassifierModel Train Score is :  0.9499550494456098\n",
      "KNNClassifierModel Test Score is :  0.9543795620437956\n",
      "Predicted Value for KNNClassifierModel is : \n",
      " [0. 0. 0. 0. 0. 0. 0. 0. 0. 0.]\n",
      "Prediction Probabilities Value for KNNClassifierModel is : \n",
      " [[1.   0.  ]\n",
      " [0.75 0.25]\n",
      " [1.   0.  ]\n",
      " [1.   0.  ]\n",
      " [1.   0.  ]\n",
      " [0.75 0.25]\n",
      " [1.   0.  ]\n",
      " [0.75 0.25]\n",
      " [1.   0.  ]\n",
      " [1.   0.  ]]\n",
      "Actual value are :\n",
      " [0. 0. 0. 0. 0. 0. 0. 0. 0. 0.]\n",
      "Confusion Matrix is : \n",
      " [[1568    3]\n",
      " [  72    1]]\n"
     ]
    },
    {
     "data": {
      "image/png": "[encoded data removed]",
      "text/plain": [
       "<Figure size 432x288 with 2 Axes>"
      ]
     },
     "metadata": {
      "needs_background": "light"
     },
     "output_type": "display_data"
    }
   ],
   "source": [
    "#Applying KNeighborsClassifier Model \n",
    "#splitting data into classes\n",
    "\n",
    "'''\n",
    "#sklearn.neighbors.KNeighborsClassifier(n_neighbors=5, weights='uniform’, algorithm=’auto’, leaf_size=30,\n",
    "#                                       p=2, metric='minkowski’, metric_params=None,n_jobs=None)\n",
    "'''\n",
    "from sklearn.neighbors import KNeighborsClassifier\n",
    "KNNClassifierModel = KNeighborsClassifier(n_neighbors= 4,weights ='uniform', # it can be distance\n",
    "                                          algorithm='auto') # it can be ball_tree, kd_tree,brute\n",
    "KNNClassifierModel.fit(X_train, y_train)\n",
    "\n",
    "#Calculating Details\n",
    "print('KNNClassifierModel Train Score is : ' , KNNClassifierModel.score(X_train, y_train))\n",
    "print('KNNClassifierModel Test Score is : ' , KNNClassifierModel.score(X_test, y_test))\n",
    "\n",
    "#Calculating Prediction\n",
    "y_pred = KNNClassifierModel.predict(X_test)\n",
    "y_pred_prob = KNNClassifierModel.predict_proba(X_test)\n",
    "print('Predicted Value for KNNClassifierModel is : \\n' , y_pred[:10])\n",
    "print('Prediction Probabilities Value for KNNClassifierModel is : \\n' , y_pred_prob[:10])\n",
    "\n",
    "#calculating actual data\n",
    "print('Actual value are :\\n',y_test[:10])\n",
    "\n",
    "#Calculating Confusion Matrix\n",
    "from sklearn.metrics import confusion_matrix\n",
    "CM = confusion_matrix(y_test, y_pred)\n",
    "print('Confusion Matrix is : \\n', CM)\n",
    "\n",
    "# drawing confusion matrix\n",
    "import seaborn as sns\n",
    "import matplotlib.pyplot as plt\n",
    "sns.heatmap(CM, center = True)\n",
    "plt.show()"
   ]
  },
  {
   "cell_type": "code",
   "execution_count": 29,
   "id": "dd1e1a29",
   "metadata": {},
   "outputs": [
    {
     "name": "stdout",
     "output_type": "stream",
     "text": [
      "DecisionTreeClassifierModel Train Score is :  0.9478573569074018\n",
      "DecisionTreeClassifierModel Test Score is :  0.9555961070559611\n",
      "DecisionTreeClassifierModel Classes are :  [0. 1.]\n",
      "Predicted Value for DecisionTreeClassifierModel is :  [0. 0. 0. 0. 0. 0. 0. 0. 0. 0.]\n",
      "Prediction Probabilities Value for DecisionTreeClassifierModel is :  [[0.97607053 0.02392947]\n",
      " [0.69127517 0.30872483]\n",
      " [0.99848485 0.00151515]\n",
      " [0.99848485 0.00151515]\n",
      " [0.99848485 0.00151515]\n",
      " [0.93721973 0.06278027]\n",
      " [0.97607053 0.02392947]\n",
      " [0.97607053 0.02392947]\n",
      " [0.99848485 0.00151515]\n",
      " [0.99848485 0.00151515]]\n",
      "Actual Value for DecisionTreeRegressorModel is :  [0. 0. 0. 0. 0. 0. 0. 0. 0. 0.]\n",
      "Confusion Matrix is : \n",
      " [[1570    1]\n",
      " [  72    1]]\n"
     ]
    },
    {
     "data": {
      "image/png": "[encoded data removed]",
      "text/plain": [
       "<Figure size 432x288 with 2 Axes>"
      ]
     },
     "metadata": {
      "needs_background": "light"
     },
     "output_type": "display_data"
    }
   ],
   "source": [
    "#Applying DecisionTreeClassifier Model \n",
    "from sklearn.tree import DecisionTreeClassifier #Classifier DecisionTree\n",
    "\n",
    "'''\n",
    "sklearn.tree.DecisionTreeClassifier(criterion='gini’, splitter=’best’, max_depth=None,min_samples_split=2,\n",
    "                                    min_samples_leaf=1,min_weight_fraction_leaf=0.0,max_features=None,\n",
    "                                    random_state=None, max_leaf_nodes=None,min_impurity_decrease=0.0,\n",
    "                                    min_impurity_split=None, class_weight=None,presort=False)\n",
    "'''\n",
    "\n",
    "DecisionTreeClassifierModel = DecisionTreeClassifier(criterion='gini',max_depth=3,random_state=33) #criterion can be entropy\n",
    "DecisionTreeClassifierModel.fit(X_train, y_train)\n",
    "\n",
    "#Calculating Details\n",
    "print('DecisionTreeClassifierModel Train Score is : ' , DecisionTreeClassifierModel.score(X_train, y_train)) #accurancy of traning \".score showes accurancy\"\n",
    "print('DecisionTreeClassifierModel Test Score is : ' , DecisionTreeClassifierModel.score(X_test, y_test)) #accurancy of testing\n",
    "print('DecisionTreeClassifierModel Classes are : ' , DecisionTreeClassifierModel.classes_) #here i show clases i use\n",
    "#print('DecisionTreeClassifierModel feature importances are : ' , DecisionTreeClassifierModel.feature_importances_)\n",
    "\n",
    "#Calculating Prediction\n",
    "y_pred = DecisionTreeClassifierModel.predict(X_test)\n",
    "y_pred_prob = DecisionTreeClassifierModel.predict_proba(X_test) #\"القيمه الاحصائيه للتوقع \"سبب ادخاله ف الكلاس\n",
    "print('Predicted Value for DecisionTreeClassifierModel is : ' , y_pred[:10])\n",
    "print('Prediction Probabilities Value for DecisionTreeClassifierModel is : ' , y_pred_prob[:10]) #عرض القيمه الاحصائيه للتوقع\n",
    "\n",
    "#Actual y\n",
    "print('Actual Value for DecisionTreeRegressorModel is : ' , y_test[:10])  \n",
    "\n",
    "\n",
    "#using matrix for classification\n",
    "#Calculating Confusion Matrix tp,tn,fp,fn\n",
    "CM = confusion_matrix(y_test, y_pred)\n",
    "print('Confusion Matrix is : \\n', CM)\n",
    "\n",
    "# drawing confusion matrix\n",
    "sns.heatmap(CM, center = True)\n",
    "plt.show()"
   ]
  },
  {
   "cell_type": "code",
   "execution_count": 35,
   "id": "036310e4",
   "metadata": {},
   "outputs": [
    {
     "name": "stdout",
     "output_type": "stream",
     "text": [
      "LDAModel Train Score is :  0.941564279292778\n",
      "LDAModel Test Score is :  0.9507299270072993\n",
      "Predicted Value for LDAModel is : \n",
      " [0. 0. 0. 0. 0. 0. 0. 0. 0. 0.]\n",
      "Prediction Probabilities Value for LDAModel is : \n",
      " [[0.99250262 0.00749738]\n",
      " [0.6596783  0.3403217 ]\n",
      " [0.9940277  0.0059723 ]\n",
      " [0.99254816 0.00745184]\n",
      " [0.99513676 0.00486324]\n",
      " [0.84345955 0.15654045]\n",
      " [0.98634808 0.01365192]\n",
      " [0.96490589 0.03509411]\n",
      " [0.99333444 0.00666556]\n",
      " [0.98787932 0.01212068]]\n",
      "Actual values are :\n",
      " [0. 0. 0. 0. 0. 0. 0. 0. 0. 0.]\n",
      "Confusion Matrix is : \n",
      " [[1560   11]\n",
      " [  70    3]]\n"
     ]
    },
    {
     "data": {
      "image/png": "[encoded data removed]",
      "text/plain": [
       "<Figure size 432x288 with 2 Axes>"
      ]
     },
     "metadata": {
      "needs_background": "light"
     },
     "output_type": "display_data"
    }
   ],
   "source": [
    "#Applying LDA Model \n",
    "from sklearn.discriminant_analysis import LinearDiscriminantAnalysis\n",
    "'''\n",
    "#sklearn.discriminant_analysis.LinearDiscriminantAnalysis(solver='svd’,shrinkage=None,priors=None,\n",
    "#                                                         n_components=None,store_covariance=False,tol=0.0001)\n",
    "'''\n",
    "\n",
    "LDAModel = LinearDiscriminantAnalysis(n_components=1,solver='svd',tol=0.0001) #n_components=num for num of component i want after reduction\n",
    "LDAModel.fit(X_train, y_train) #fitting training data to apply LDA algorithms on it\n",
    "\n",
    "#Calculating Details\n",
    "print('LDAModel Train Score is : ' , LDAModel.score(X_train, y_train)) #train accurancy\n",
    "print('LDAModel Test Score is : ' , LDAModel.score(X_test, y_test)) #test accurancy\n",
    "\n",
    "#Calculating Prediction\n",
    "y_pred = LDAModel.predict(X_test)\n",
    "y_pred_prob = LDAModel.predict_proba(X_test)\n",
    "print('Predicted Value for LDAModel is : \\n' , y_pred[:10])\n",
    "print('Prediction Probabilities Value for LDAModel is : \\n' , y_pred_prob[:10])\n",
    "\n",
    "#calculating actual values\n",
    "print('Actual values are :\\n', y_test[:10])\n",
    "\n",
    "#using matrix for classification\n",
    "#Calculating Confusion Matrix tp,tn,fp,fn\n",
    "CM = confusion_matrix(y_test, y_pred)\n",
    "print('Confusion Matrix is : \\n', CM)\n",
    "\n",
    "# drawing confusion matrix\n",
    "sns.heatmap(CM, center = True)\n",
    "plt.show()"
   ]
  },
  {
   "cell_type": "code",
   "execution_count": 67,
   "id": "699da443",
   "metadata": {},
   "outputs": [],
   "source": [
    "#Applying neural network\n",
    "#importing laibraries\n",
    "import tensorflow as tf\n",
    "from tensorflow.keras.models import Sequential\n",
    "from tensorflow.keras.layers import Dense\n",
    "from tensorflow.keras.losses import BinaryCrossentropy"
   ]
  },
  {
   "cell_type": "code",
   "execution_count": 71,
   "id": "5c8448e7",
   "metadata": {},
   "outputs": [
    {
     "name": "stdout",
     "output_type": "stream",
     "text": [
      "Epoch 1/20\n",
      "534/534 [==============================] - 1s 2ms/step - loss: 0.2771 - accuracy: 0.9472 - val_loss: 0.2088 - val_accuracy: 0.9416\n",
      "Epoch 2/20\n",
      "534/534 [==============================] - 1s 1ms/step - loss: 0.1804 - accuracy: 0.9490 - val_loss: 0.1938 - val_accuracy: 0.9416\n",
      "Epoch 3/20\n",
      "534/534 [==============================] - 1s 1ms/step - loss: 0.1710 - accuracy: 0.9490 - val_loss: 0.1825 - val_accuracy: 0.9416\n",
      "Epoch 4/20\n",
      "534/534 [==============================] - 1s 1ms/step - loss: 0.1669 - accuracy: 0.9490 - val_loss: 0.1869 - val_accuracy: 0.9416\n",
      "Epoch 5/20\n",
      "534/534 [==============================] - 1s 1ms/step - loss: 0.1663 - accuracy: 0.9490 - val_loss: 0.1803 - val_accuracy: 0.9416\n",
      "Epoch 6/20\n",
      "534/534 [==============================] - 1s 1ms/step - loss: 0.1667 - accuracy: 0.9490 - val_loss: 0.1806 - val_accuracy: 0.9416\n",
      "Epoch 7/20\n",
      "534/534 [==============================] - 1s 1ms/step - loss: 0.1659 - accuracy: 0.9487 - val_loss: 0.1851 - val_accuracy: 0.9416\n",
      "Epoch 8/20\n",
      "534/534 [==============================] - 1s 1ms/step - loss: 0.1656 - accuracy: 0.9479 - val_loss: 0.1812 - val_accuracy: 0.9416\n",
      "Epoch 9/20\n",
      "534/534 [==============================] - 1s 1ms/step - loss: 0.1651 - accuracy: 0.9487 - val_loss: 0.1812 - val_accuracy: 0.9416\n",
      "Epoch 10/20\n",
      "534/534 [==============================] - 1s 1ms/step - loss: 0.1654 - accuracy: 0.9490 - val_loss: 0.1809 - val_accuracy: 0.9416\n",
      "Epoch 11/20\n",
      "534/534 [==============================] - 1s 1ms/step - loss: 0.1627 - accuracy: 0.9494 - val_loss: 0.1939 - val_accuracy: 0.9416\n",
      "Epoch 12/20\n",
      "534/534 [==============================] - 1s 1ms/step - loss: 0.1653 - accuracy: 0.9479 - val_loss: 0.1844 - val_accuracy: 0.9416\n",
      "Epoch 13/20\n",
      "534/534 [==============================] - 1s 1ms/step - loss: 0.1642 - accuracy: 0.9487 - val_loss: 0.1812 - val_accuracy: 0.9416\n",
      "Epoch 14/20\n",
      "534/534 [==============================] - 1s 1ms/step - loss: 0.1656 - accuracy: 0.9490 - val_loss: 0.1818 - val_accuracy: 0.9431\n",
      "Epoch 15/20\n",
      "534/534 [==============================] - 1s 1ms/step - loss: 0.1656 - accuracy: 0.9490 - val_loss: 0.1822 - val_accuracy: 0.9431\n",
      "Epoch 16/20\n",
      "534/534 [==============================] - 1s 1ms/step - loss: 0.1647 - accuracy: 0.9490 - val_loss: 0.1832 - val_accuracy: 0.9416\n",
      "Epoch 17/20\n",
      "534/534 [==============================] - 1s 1ms/step - loss: 0.1653 - accuracy: 0.9487 - val_loss: 0.1818 - val_accuracy: 0.9416\n",
      "Epoch 18/20\n",
      "534/534 [==============================] - 1s 2ms/step - loss: 0.1647 - accuracy: 0.9483 - val_loss: 0.1818 - val_accuracy: 0.9431\n",
      "Epoch 19/20\n",
      "534/534 [==============================] - 1s 2ms/step - loss: 0.1643 - accuracy: 0.9487 - val_loss: 0.1824 - val_accuracy: 0.9416\n",
      "Epoch 20/20\n",
      "534/534 [==============================] - 1s 2ms/step - loss: 0.1650 - accuracy: 0.9494 - val_loss: 0.1820 - val_accuracy: 0.9416\n"
     ]
    },
    {
     "data": {
      "text/plain": [
       "<keras.callbacks.History at 0x24dc6f7ad90>"
      ]
     },
     "execution_count": 71,
     "metadata": {},
     "output_type": "execute_result"
    }
   ],
   "source": [
    "#building model\n",
    "#here i build  model with all layers\n",
    "# Set the input shape\n",
    "feature_vector_shape = len(X_train[0])\n",
    "input_shape = (feature_vector_shape,)\n",
    "\n",
    "# Create the model\n",
    "model = Sequential()\n",
    "model.add(Dense(12, input_shape=input_shape, activation='relu', kernel_initializer='he_uniform'))\n",
    "model.add(Dense(8, activation='relu', kernel_initializer='he_uniform'))\n",
    "model.add(Dense(1, activation='sigmoid'))\n",
    "\n",
    "#here i give system parameters it will works on\n",
    "model.compile(optimizer='adam',\n",
    "              loss='binary_crossentropy',\n",
    "              metrics=['accuracy'])\n",
    "\n",
    "#fitting training data \n",
    "model.fit(X_train, y_train, epochs=20 , batch_size=5 ,verbose=1, validation_split=0.2)"
   ]
  },
  {
   "cell_type": "code",
   "execution_count": 72,
   "id": "6c071040",
   "metadata": {},
   "outputs": [
    {
     "name": "stdout",
     "output_type": "stream",
     "text": [
      "52/52 [==============================] - 0s 1ms/step - loss: 0.1474 - accuracy: 0.9556\n",
      "0.14743658900260925\n",
      "0.9555960893630981\n"
     ]
    }
   ],
   "source": [
    "#model.evaluate(x_test, y_test) for gettong loss and accurancy using testing data\n",
    "val_loss, val_acc = model.evaluate(X_test, y_test)\n",
    "print(val_loss) #loss function\n",
    "print(val_acc) #accurancy"
   ]
  }
 ],
 "metadata": {
  "kernelspec": {
   "display_name": "Python 3",
   "language": "python",
   "name": "python3"
  },
  "language_info": {
   "codemirror_mode": {
    "name": "ipython",
    "version": 3
   },
   "file_extension": ".py",
   "mimetype": "text/x-python",
   "name": "python",
   "nbconvert_exporter": "python",
   "pygments_lexer": "ipython3",
   "version": "3.8.8"
  }
 },
 "nbformat": 4,
 "nbformat_minor": 5
}
